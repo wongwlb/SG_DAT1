{
 "cells": [
  {
   "cell_type": "markdown",
   "metadata": {
    "slideshow": {
     "slide_type": "slide"
    }
   },
   "source": [
    "## Scientific Computing for Large Datasets"
   ]
  },
  {
   "cell_type": "markdown",
   "metadata": {},
   "source": [
    "### What is Big Data?\n",
    "\n",
    "* Data is larger than what I can hold in Memory (of my Laptop)\n",
    "* You are either -\n",
    "    * Memory Bound: Sometimes data is too big to fit in Memory of your Laptop\n",
    "    * CPU Bound: Processing takes too long (Grid Searching models) and you need to run it for long intervals\n",
    "\n",
    "You need a bigger machine (more likely memory) to complete the processing.  You can either buy a more expensive laptop or add memory or simply rent the hardware from AWS for the period you need it for.\n",
    "\n",
    "You need to either Scale Out (Horizontally) or Scale Up (Vertically)"
   ]
  },
  {
   "cell_type": "markdown",
   "metadata": {},
   "source": [
    "### Scale Out:\n",
    "\n",
    "Distribute the computing / memory across different Machines (StarCluster / Hadoop / Spark)\n",
    "\n",
    "* Pros - Only solution on TB and PB scale.\n",
    "* Cons - Non-Trivial setup, on-going maintenance."
   ]
  },
  {
   "cell_type": "markdown",
   "metadata": {},
   "source": [
    "### Scale Up:\n",
    "\n",
    "Rent a Single Bigger Machine - [upto 244GB Memory from EC2](http://www.ec2instances.info/)\n",
    "\n",
    "* Pros - Simpler Solution.  We all know how to work with one computer\n",
    "* Cons - Although 30-50X larger than your laptop, it still has an upper bound.  Some problems will be too big for one machine.\n",
    "\n",
    "We are going to Scale Up in this Class because that will help you with your project or at work right now."
   ]
  },
  {
   "cell_type": "markdown",
   "metadata": {},
   "source": [
    "### Lab Notes:\n",
    "\n",
    "* [Login to AWS](aws.amazon.com)\n",
    "* Select the Region to US East (N.Virginia).  We will work with other Regions later.\n",
    "* Select EC2 and Launch an Instance\n",
    "* [Anaconda EC2 Image](http://docs.continuum.io/anaconda/images#id4)\n",
    "* [Understand Costs](http://www.ec2instances.info/)\n",
    "* Spin up M3.Medium\n",
    "* Set Security Groups (Open Ports - ssh, http, https, tcp on 8888, 8000)\n",
    "* Launch\n",
    "* Create a Key - You need this to login to the box\n",
    "\n",
    "It should be done in a couple of Minutes\n",
    "\n",
    "\n",
    "### Any issues?"
   ]
  },
  {
   "cell_type": "markdown",
   "metadata": {},
   "source": [
    "### Logging into AWS EC2 System:\n",
    "\n",
    "* Go to Terminal App in Mac / git bash on Windows\n",
    "\n",
    "* Set Permission on .pem file \n",
    "    * chmod 600 pemfile.pem\n",
    "\n",
    "* SSH into the AWS system\n",
    "    * ssh -i *\"pem file with path\"* ubuntu@*\"ec2 box\"*"
   ]
  },
  {
   "cell_type": "markdown",
   "metadata": {},
   "source": [
    "### Install / Update Packages:\n",
    "\n",
    "\n",
    "* Update Linux - `sudo apt-get update`\n",
    "* Install git - `sudo apt-get install git`\n",
    "* Update conda - `conda update conda`\n",
    "* Install Conda packages -\n",
    "```\n",
    "conda install ipython-notebook\n",
    "conda install pandas\n",
    "conda install matplotlib\n",
    "conda install scikit-learn\n",
    "conda install seaborn\n",
    "```\n",
    "\n",
    "* `git clone` your SF_DAT_15_WORK repo\n",
    "* `ls` to confirm that you see your WORK repo"
   ]
  },
  {
   "cell_type": "markdown",
   "metadata": {},
   "source": [
    "### IPython Server Setup:\n",
    "\n",
    "`ipython profile create nbserver`\n",
    "\n",
    "> Output: [ProfileCreate] Generating default config file: u'/home/ubuntu/.ipython/profile_nbserver/ipython_config.py'\n",
    "\n"
   ]
  },
  {
   "cell_type": "markdown",
   "metadata": {},
   "source": [
    "### Create a Password for IPython Notebook:\n",
    "\n",
    "Run:\n",
    "`ipython`\n",
    "    * from IPython.lib import passwd\n",
    "    * passwd()\n",
    "\n",
    ">'sha1:7370b8b10c51:d3c284bac0f8d6a066f69a8485ae3591ab758983'\n"
   ]
  },
  {
   "cell_type": "markdown",
   "metadata": {},
   "source": [
    "### Create SSL Certificate:\n",
    "```\n",
    "mkdir .certificates\n",
    "cd .certificates\n",
    "pwd\n",
    "openssl req -x509 -nodes -days 365 -newkey rsa:1024 -keyout mycert.pem -out mycert.pem\n",
    "```\n",
    "\n",
    "[Stack Overflow Post](http://stackoverflow.com/questions/21477210/correct-location-of-openssl-cnf-file/21485937#21485937)"
   ]
  },
  {
   "cell_type": "markdown",
   "metadata": {},
   "source": [
    "### Setup IPython Server Profile\n",
    "\n",
    "`nano /home/ubuntu/.ipython/profile_nbserver/ipython_config.py`\n",
    "\n",
    "```\n",
    "# kernel config\n",
    "c.IPKernelApp.pylab = 'inline'\n",
    "# Notebook Config\n",
    "c.NotebookApp.certificate = u'/users/ubuntu/.certificates/mycert.pem'\n",
    "c.NotebookApp.ip = '*'\n",
    "c.NotebookApp.open_browser = False\n",
    "c.NotebookApp.password = u'<your password>'\n",
    "c.NotebookApp.port = 8888\n",
    "```"
   ]
  },
  {
   "cell_type": "markdown",
   "metadata": {},
   "source": [
    "### Basic Setup Compleete - Hurray\n",
    "```\n",
    "# Run the following Command\n",
    "ipython notebook --profile=nbserver\n",
    "```\n",
    "\n",
    "Open Browser: `EC2 URL:8888`\n",
    "\n",
    "Do you see the IPython Notebook?  - Any Problems?"
   ]
  },
  {
   "cell_type": "code",
   "execution_count": null,
   "metadata": {
    "collapsed": true
   },
   "outputs": [],
   "source": []
  },
  {
   "cell_type": "markdown",
   "metadata": {},
   "source": [
    "## Resources and Further Reading\n",
    "\n",
    "* [Don't use Hadoop - your data isn't that big](https://www.chrisstucchio.com/blog/2013/hadoop_hatred.html)\n",
    "* [Stack Overflow Post on SSL](http://stackoverflow.com/questions/21477210/correct-location-of-openssl-cnf-file/21485937#21485937)\n",
    "* [IPython HTML Notebok Documentation](http://ipython.org/ipython-doc/dev/interactive/htmlnotebook.html)\n",
    "* [IPython Magic Functions](http://ipython.org/ipython-doc/dev/interactive/tutorial.html)"
   ]
  },
  {
   "cell_type": "markdown",
   "metadata": {},
   "source": [
    "* Use [Screen](http://www.thegeekstuff.com/2010/07/screen-command-examples/) to keep IPython Server Running in the background.\n",
    "\n",
    "* Supervisord to restart the process"
   ]
  },
  {
   "cell_type": "code",
   "execution_count": null,
   "metadata": {
    "collapsed": true
   },
   "outputs": [],
   "source": []
  }
 ],
 "metadata": {
  "celltoolbar": "Slideshow",
  "kernelspec": {
   "display_name": "Python 2",
   "language": "python",
   "name": "python2"
  },
  "language_info": {
   "codemirror_mode": {
    "name": "ipython",
    "version": 2
   },
   "file_extension": ".py",
   "mimetype": "text/x-python",
   "name": "python",
   "nbconvert_exporter": "python",
   "pygments_lexer": "ipython2",
   "version": "2.7.10"
  }
 },
 "nbformat": 4,
 "nbformat_minor": 0
}
