{
 "cells": [
  {
   "cell_type": "markdown",
   "metadata": {},
   "source": [
    "The $k$-Means Algorithm\n",
    "====================\n",
    "\n",
    "Let's start by generating some artificial blobs of data:"
   ]
  },
  {
   "cell_type": "code",
   "execution_count": 10,
   "metadata": {
    "collapsed": false
   },
   "outputs": [],
   "source": [
    "from sklearn.datasets import make_blobs\n",
    "\n",
    "num_blobs = 8\n",
    "X, Y = make_blobs(centers=num_blobs, cluster_std=0.5, random_state=2)"
   ]
  },
  {
   "cell_type": "markdown",
   "metadata": {},
   "source": [
    "### As usual, we first *plot* the data to get a feeling of what we're dealing with:"
   ]
  },
  {
   "cell_type": "code",
   "execution_count": 1,
   "metadata": {
    "collapsed": false
   },
   "outputs": [],
   "source": [
    "# TODO - plot the data"
   ]
  },
  {
   "cell_type": "markdown",
   "metadata": {},
   "source": [
    "### The data looks like it may contain four different \"clusters\".   In fact, this is how it was created above.  We can plot this information as well, using color:"
   ]
  },
  {
   "cell_type": "code",
   "execution_count": 2,
   "metadata": {
    "collapsed": false
   },
   "outputs": [],
   "source": [
    "# TODO - plot with colors!"
   ]
  },
  {
   "cell_type": "markdown",
   "metadata": {},
   "source": [
    "Normally, you do not know the information in `Y`, however.\n",
    "\n",
    "You could try to recover it from the data alone.\n",
    "\n",
    "This is what the kMeans algorithm does. "
   ]
  },
  {
   "cell_type": "markdown",
   "metadata": {},
   "source": [
    "### Check out the docs on sklearn's [Kmeans](http://scikit-learn.org/stable/modules/generated/sklearn.cluster.KMeans.html)"
   ]
  },
  {
   "cell_type": "markdown",
   "metadata": {},
   "source": [
    "##### class sklearn.cluster.KMeans(n_clusters=8, init='k-means++', n_init=10, max_iter=300, tol=0.0001, precompute_distances=True, verbose=0, random_state=None, copy_x=True, n_jobs=1)"
   ]
  },
  {
   "cell_type": "code",
   "execution_count": 3,
   "metadata": {
    "collapsed": false
   },
   "outputs": [],
   "source": [
    "from sklearn.cluster import KMeans\n",
    "# TODO - fit, and report the y values predicted"
   ]
  },
  {
   "cell_type": "markdown",
   "metadata": {},
   "source": [
    "### Now the label assignments should be quite similar to `Y`, up to a different ordering of the colors:"
   ]
  },
  {
   "cell_type": "code",
   "execution_count": 1,
   "metadata": {
    "collapsed": false
   },
   "outputs": [],
   "source": [
    "# TODO - plot with colors, based on PREDICTIONS"
   ]
  },
  {
   "cell_type": "markdown",
   "metadata": {},
   "source": [
    "### Often, you're not so much interested in the assignments to the centroids (means).   You'll want to have a closer look at the centroids themselves.  The centroids can be seen as *representatives* of their respective cluster."
   ]
  },
  {
   "cell_type": "code",
   "execution_count": 4,
   "metadata": {
    "collapsed": false
   },
   "outputs": [],
   "source": [
    "# TODO find the centroids: ctroids = ...\n",
    "# then use this to plot them:\n",
    "# plt.scatter(ctroids[:,0], ctroids[:,1], s=100, c=np.unique(Y_hat))\n"
   ]
  },
  {
   "cell_type": "markdown",
   "metadata": {},
   "source": [
    "## Let's try to find an ideal value of K using the elbow method"
   ]
  },
  {
   "cell_type": "code",
   "execution_count": 17,
   "metadata": {
    "collapsed": false
   },
   "outputs": [],
   "source": [
    "K = range(1,20)\n",
    "\n",
    "inertias = []\n",
    "for k in K:\n",
    "    # create a new KMeans object for each value of k\n",
    "    kmeans = KMeans(n_clusters=k, random_state=8)\n",
    "    kmeans.fit(X)\n",
    "    inertias.append(kmeans.inertia_) # inertia: Sum of distances of samples to their closest cluster center\n",
    "    "
   ]
  },
  {
   "cell_type": "code",
   "execution_count": 18,
   "metadata": {
    "collapsed": false
   },
   "outputs": [
    {
     "data": {
      "image/png": "[encoded data removed]",
      "text/plain": [
       "<matplotlib.figure.Figure at 0x7f4ab7635910>"
      ]
     },
     "metadata": {},
     "output_type": "display_data"
    }
   ],
   "source": [
    "ideal_k = num_blobs -1 # (we know in advance that this is the ideal value for k)\n",
    "\n",
    "# plot elbow curve\n",
    "fig = plt.figure(figsize=(8,6))\n",
    "ax = fig.add_subplot(111)\n",
    "ax.plot(K, inertias, 'b*-')\n",
    "\n",
    "# plot the red circle\n",
    "ax.plot(K[ideal_k], inertias[ideal_k], marker='o', markersize=12, \n",
    "      markeredgewidth=2, markeredgecolor='r', markerfacecolor='None')\n",
    "plt.grid(True)\n",
    "plt.xlabel('Number of clusters')\n",
    "plt.ylabel('Sum of distances of samples to their closest cluster center')\n",
    "tt = plt.title('Elbow for K-Means clustering')  "
   ]
  },
  {
   "cell_type": "code",
   "execution_count": 9,
   "metadata": {
    "collapsed": false
   },
   "outputs": [],
   "source": []
  },
  {
   "cell_type": "code",
   "execution_count": null,
   "metadata": {
    "collapsed": false
   },
   "outputs": [],
   "source": []
  }
 ],
 "metadata": {
  "kernelspec": {
   "display_name": "Python 2",
   "language": "python",
   "name": "python2"
  },
  "language_info": {
   "codemirror_mode": {
    "name": "ipython",
    "version": 2
   },
   "file_extension": ".py",
   "mimetype": "text/x-python",
   "name": "python",
   "nbconvert_exporter": "python",
   "pygments_lexer": "ipython2",
   "version": "2.7.11"
  }
 },
 "nbformat": 4,
 "nbformat_minor": 0
}
