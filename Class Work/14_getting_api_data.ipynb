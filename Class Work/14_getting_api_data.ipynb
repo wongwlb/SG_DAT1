{
 "cells": [
  {
   "cell_type": "markdown",
   "metadata": {},
   "source": [
    "## Data from API"
   ]
  },
  {
   "cell_type": "markdown",
   "metadata": {},
   "source": [
    "Connect to the SF.Gov API and pull data from the 311 Table\n",
    "https://data.sfgov.org/City-Infrastructure/Case-Data-from-San-Francisco-311-SF311-/vw6y-z8j6\n",
    "\n",
    "Note: You'll need to sign up for an app token to avoid throttling limits http://dev.socrata.com/foundry/#/data.sfgov.org/vw6y-z8j6\n",
    "\n",
    "hint: use the built in JSON functionality inside python"
   ]
  },
  {
   "cell_type": "code",
   "execution_count": 7,
   "metadata": {
    "collapsed": true
   },
   "outputs": [],
   "source": [
    "import json\n",
    "import urllib\n",
    "import pandas as pd\n",
    "import sqlite3"
   ]
  },
  {
   "cell_type": "code",
   "execution_count": 8,
   "metadata": {
    "collapsed": true
   },
   "outputs": [],
   "source": [
    "url = \"https://data.sfgov.org/resource/vw6y-z8j6.json?$$app_token=Iq3JEcmMzuOIvahirX7cR0GTI\"\n",
    "data = json.load(urllib.urlopen(url))"
   ]
  },
  {
   "cell_type": "markdown",
   "metadata": {},
   "source": [
    "### How many elements are there in the JSON file? Display the length of the JSON object and display the elements contained in one of the items of the JSON file?"
   ]
  },
  {
   "cell_type": "code",
   "execution_count": 3,
   "metadata": {
    "collapsed": false
   },
   "outputs": [
    {
     "data": {
      "text/plain": [
       "{u'address': u'Intersection of 21ST ST and CAPP ST',\n",
       " u'case_id': u'322571',\n",
       " u'category': u'General Requests',\n",
       " u'closed': u'2008-12-01T15:19:00',\n",
       " u'neighborhood': u'Mission',\n",
       " u'opened': u'2008-11-30T23:53:00',\n",
       " u'point': {u'latitude': u'37.7571008516766',\n",
       "  u'longitude': u'-122.417811874214',\n",
       "  u'needs_recoding': False},\n",
       " u'request_details': u'puc - electric - request_for_service',\n",
       " u'request_type': u'puc - electric - request_for_service',\n",
       " u'responsible_agency': u'PUC - Electric/Power - G',\n",
       " u'source': u'Voice In',\n",
       " u'status': u'Closed',\n",
       " u'supervisor_district': u'9',\n",
       " u'updated': u'2008-12-01T15:19:00'}"
      ]
     },
     "execution_count": 3,
     "metadata": {},
     "output_type": "execute_result"
    }
   ],
   "source": [
    "data[0]"
   ]
  },
  {
   "cell_type": "markdown",
   "metadata": {},
   "source": [
    "### Use Pandas \"Read JSON\" functionality to turn the 311 data into a Pandas Dataframe"
   ]
  },
  {
   "cell_type": "code",
   "execution_count": 10,
   "metadata": {
    "collapsed": false
   },
   "outputs": [
    {
     "data": {
      "text/html": [
       "<div>\n",
       "<table border=\"1\" class=\"dataframe\">\n",
       "  <thead>\n",
       "    <tr style=\"text-align: right;\">\n",
       "      <th></th>\n",
       "      <th>address</th>\n",
       "      <th>case_id</th>\n",
       "      <th>category</th>\n",
       "      <th>closed</th>\n",
       "      <th>neighborhood</th>\n",
       "      <th>opened</th>\n",
       "      <th>point</th>\n",
       "      <th>request_details</th>\n",
       "      <th>request_type</th>\n",
       "      <th>responsible_agency</th>\n",
       "      <th>source</th>\n",
       "      <th>status</th>\n",
       "      <th>supervisor_district</th>\n",
       "      <th>updated</th>\n",
       "    </tr>\n",
       "  </thead>\n",
       "  <tbody>\n",
       "    <tr>\n",
       "      <th>0</th>\n",
       "      <td>Intersection of 21ST ST and CAPP ST</td>\n",
       "      <td>322571</td>\n",
       "      <td>General Requests</td>\n",
       "      <td>2008-12-01T15:19:00</td>\n",
       "      <td>Mission</td>\n",
       "      <td>2008-11-30T23:53:00</td>\n",
       "      <td>{u'latitude': u'37.7571008516766', u'needs_rec...</td>\n",
       "      <td>puc - electric - request_for_service</td>\n",
       "      <td>puc - electric - request_for_service</td>\n",
       "      <td>PUC - Electric/Power - G</td>\n",
       "      <td>Voice In</td>\n",
       "      <td>Closed</td>\n",
       "      <td>9</td>\n",
       "      <td>2008-12-01T15:19:00</td>\n",
       "    </tr>\n",
       "    <tr>\n",
       "      <th>1</th>\n",
       "      <td>Intersection of BUSH ST and VAN NESS AVE</td>\n",
       "      <td>322568</td>\n",
       "      <td>Illegal Postings</td>\n",
       "      <td>2009-07-21T16:24:00</td>\n",
       "      <td>Nob Hill</td>\n",
       "      <td>2008-11-30T23:13:00</td>\n",
       "      <td>{u'latitude': u'37.7884895281133', u'needs_rec...</td>\n",
       "      <td>Posting_Too_Large_in_Size on Sidewalk</td>\n",
       "      <td>Illegal Postings - Posting_Too_Large_in_Size</td>\n",
       "      <td>DPW Ops Queue</td>\n",
       "      <td>Voice In</td>\n",
       "      <td>Closed</td>\n",
       "      <td>3</td>\n",
       "      <td>2009-07-21T16:24:00</td>\n",
       "    </tr>\n",
       "    <tr>\n",
       "      <th>2</th>\n",
       "      <td>Intersection of EUCLID AVE and MASONIC AVE</td>\n",
       "      <td>322567</td>\n",
       "      <td>Illegal Postings</td>\n",
       "      <td>2008-12-27T06:07:00</td>\n",
       "      <td>Western Addition</td>\n",
       "      <td>2008-11-30T23:07:00</td>\n",
       "      <td>{u'latitude': u'37.7850837365507', u'needs_rec...</td>\n",
       "      <td>Affixed_Improperly on Sidewalk</td>\n",
       "      <td>Illegal Postings - Affixed_Improperly</td>\n",
       "      <td>DPW Ops Queue</td>\n",
       "      <td>Voice In</td>\n",
       "      <td>Closed</td>\n",
       "      <td>2</td>\n",
       "      <td>2008-12-27T06:07:00</td>\n",
       "    </tr>\n",
       "    <tr>\n",
       "      <th>3</th>\n",
       "      <td>1566 HYDE ST, SAN FRANCISCO, CA, 94109</td>\n",
       "      <td>322566</td>\n",
       "      <td>Street and Sidewalk Cleaning</td>\n",
       "      <td>2009-07-21T16:24:00</td>\n",
       "      <td>Nob Hill</td>\n",
       "      <td>2008-11-30T22:56:00</td>\n",
       "      <td>{u'latitude': u'37.795328529', u'needs_recodin...</td>\n",
       "      <td>Garbage</td>\n",
       "      <td>Sidewalk_Cleaning</td>\n",
       "      <td>DPW Ops Queue</td>\n",
       "      <td>Voice In</td>\n",
       "      <td>Closed</td>\n",
       "      <td>3</td>\n",
       "      <td>2009-07-21T16:24:00</td>\n",
       "    </tr>\n",
       "    <tr>\n",
       "      <th>4</th>\n",
       "      <td>GGP Panhandle, SAN FRANCISCO, CA, 94117</td>\n",
       "      <td>322565</td>\n",
       "      <td>Rec and Park Requests</td>\n",
       "      <td>2008-12-13T10:50:00</td>\n",
       "      <td>Haight Ashbury</td>\n",
       "      <td>2008-11-30T22:46:00</td>\n",
       "      <td>{u'latitude': u'37.772204762', u'needs_recodin...</td>\n",
       "      <td>Other</td>\n",
       "      <td>Park - Structural_Maintenance</td>\n",
       "      <td>RPD Park Service Area GGP Queue</td>\n",
       "      <td>Voice In</td>\n",
       "      <td>Closed</td>\n",
       "      <td>5</td>\n",
       "      <td>2008-12-13T10:50:00</td>\n",
       "    </tr>\n",
       "  </tbody>\n",
       "</table>\n",
       "</div>"
      ],
      "text/plain": [
       "                                      address case_id  \\\n",
       "0         Intersection of 21ST ST and CAPP ST  322571   \n",
       "1    Intersection of BUSH ST and VAN NESS AVE  322568   \n",
       "2  Intersection of EUCLID AVE and MASONIC AVE  322567   \n",
       "3      1566 HYDE ST, SAN FRANCISCO, CA, 94109  322566   \n",
       "4     GGP Panhandle, SAN FRANCISCO, CA, 94117  322565   \n",
       "\n",
       "                       category               closed      neighborhood  \\\n",
       "0              General Requests  2008-12-01T15:19:00           Mission   \n",
       "1              Illegal Postings  2009-07-21T16:24:00          Nob Hill   \n",
       "2              Illegal Postings  2008-12-27T06:07:00  Western Addition   \n",
       "3  Street and Sidewalk Cleaning  2009-07-21T16:24:00          Nob Hill   \n",
       "4         Rec and Park Requests  2008-12-13T10:50:00    Haight Ashbury   \n",
       "\n",
       "                opened                                              point  \\\n",
       "0  2008-11-30T23:53:00  {u'latitude': u'37.7571008516766', u'needs_rec...   \n",
       "1  2008-11-30T23:13:00  {u'latitude': u'37.7884895281133', u'needs_rec...   \n",
       "2  2008-11-30T23:07:00  {u'latitude': u'37.7850837365507', u'needs_rec...   \n",
       "3  2008-11-30T22:56:00  {u'latitude': u'37.795328529', u'needs_recodin...   \n",
       "4  2008-11-30T22:46:00  {u'latitude': u'37.772204762', u'needs_recodin...   \n",
       "\n",
       "                         request_details  \\\n",
       "0   puc - electric - request_for_service   \n",
       "1  Posting_Too_Large_in_Size on Sidewalk   \n",
       "2         Affixed_Improperly on Sidewalk   \n",
       "3                                Garbage   \n",
       "4                                  Other   \n",
       "\n",
       "                                   request_type  \\\n",
       "0          puc - electric - request_for_service   \n",
       "1  Illegal Postings - Posting_Too_Large_in_Size   \n",
       "2         Illegal Postings - Affixed_Improperly   \n",
       "3                             Sidewalk_Cleaning   \n",
       "4                 Park - Structural_Maintenance   \n",
       "\n",
       "                responsible_agency    source  status supervisor_district  \\\n",
       "0         PUC - Electric/Power - G  Voice In  Closed                   9   \n",
       "1                    DPW Ops Queue  Voice In  Closed                   3   \n",
       "2                    DPW Ops Queue  Voice In  Closed                   2   \n",
       "3                    DPW Ops Queue  Voice In  Closed                   3   \n",
       "4  RPD Park Service Area GGP Queue  Voice In  Closed                   5   \n",
       "\n",
       "               updated  \n",
       "0  2008-12-01T15:19:00  \n",
       "1  2009-07-21T16:24:00  \n",
       "2  2008-12-27T06:07:00  \n",
       "3  2009-07-21T16:24:00  \n",
       "4  2008-12-13T10:50:00  "
      ]
     },
     "execution_count": 10,
     "metadata": {},
     "output_type": "execute_result"
    }
   ],
   "source": [
    "df = pd.DataFrame(data)\n",
    "df.head(5)"
   ]
  },
  {
   "cell_type": "code",
   "execution_count": 13,
   "metadata": {
    "collapsed": true
   },
   "outputs": [],
   "source": [
    "del df['point']"
   ]
  },
  {
   "cell_type": "markdown",
   "metadata": {},
   "source": [
    "### Create a Databse and Store the results.\n",
    "\n",
    "Here, we are creating the DB in memory. You can change it to a real DB filename if you want to keep it for further analysis"
   ]
  },
  {
   "cell_type": "code",
   "execution_count": 14,
   "metadata": {
    "collapsed": false
   },
   "outputs": [],
   "source": [
    "# Write to Database.  We will then use to run queries\n",
    "con = sqlite3.connect(\":memory:\")\n",
    "df.to_sql('sf_311', con)"
   ]
  },
  {
   "cell_type": "markdown",
   "metadata": {},
   "source": [
    "### Display first 5 rows"
   ]
  },
  {
   "cell_type": "code",
   "execution_count": 16,
   "metadata": {
    "collapsed": false
   },
   "outputs": [
    {
     "data": {
      "text/html": [
       "<div>\n",
       "<table border=\"1\" class=\"dataframe\">\n",
       "  <thead>\n",
       "    <tr style=\"text-align: right;\">\n",
       "      <th></th>\n",
       "      <th>index</th>\n",
       "      <th>address</th>\n",
       "      <th>case_id</th>\n",
       "      <th>category</th>\n",
       "      <th>closed</th>\n",
       "      <th>neighborhood</th>\n",
       "      <th>opened</th>\n",
       "      <th>request_details</th>\n",
       "      <th>request_type</th>\n",
       "      <th>responsible_agency</th>\n",
       "      <th>source</th>\n",
       "      <th>status</th>\n",
       "      <th>supervisor_district</th>\n",
       "      <th>updated</th>\n",
       "    </tr>\n",
       "  </thead>\n",
       "  <tbody>\n",
       "    <tr>\n",
       "      <th>0</th>\n",
       "      <td>0</td>\n",
       "      <td>Intersection of 21ST ST and CAPP ST</td>\n",
       "      <td>322571</td>\n",
       "      <td>General Requests</td>\n",
       "      <td>2008-12-01T15:19:00</td>\n",
       "      <td>Mission</td>\n",
       "      <td>2008-11-30T23:53:00</td>\n",
       "      <td>puc - electric - request_for_service</td>\n",
       "      <td>puc - electric - request_for_service</td>\n",
       "      <td>PUC - Electric/Power - G</td>\n",
       "      <td>Voice In</td>\n",
       "      <td>Closed</td>\n",
       "      <td>9</td>\n",
       "      <td>2008-12-01T15:19:00</td>\n",
       "    </tr>\n",
       "    <tr>\n",
       "      <th>1</th>\n",
       "      <td>1</td>\n",
       "      <td>Intersection of BUSH ST and VAN NESS AVE</td>\n",
       "      <td>322568</td>\n",
       "      <td>Illegal Postings</td>\n",
       "      <td>2009-07-21T16:24:00</td>\n",
       "      <td>Nob Hill</td>\n",
       "      <td>2008-11-30T23:13:00</td>\n",
       "      <td>Posting_Too_Large_in_Size on Sidewalk</td>\n",
       "      <td>Illegal Postings - Posting_Too_Large_in_Size</td>\n",
       "      <td>DPW Ops Queue</td>\n",
       "      <td>Voice In</td>\n",
       "      <td>Closed</td>\n",
       "      <td>3</td>\n",
       "      <td>2009-07-21T16:24:00</td>\n",
       "    </tr>\n",
       "    <tr>\n",
       "      <th>2</th>\n",
       "      <td>2</td>\n",
       "      <td>Intersection of EUCLID AVE and MASONIC AVE</td>\n",
       "      <td>322567</td>\n",
       "      <td>Illegal Postings</td>\n",
       "      <td>2008-12-27T06:07:00</td>\n",
       "      <td>Western Addition</td>\n",
       "      <td>2008-11-30T23:07:00</td>\n",
       "      <td>Affixed_Improperly on Sidewalk</td>\n",
       "      <td>Illegal Postings - Affixed_Improperly</td>\n",
       "      <td>DPW Ops Queue</td>\n",
       "      <td>Voice In</td>\n",
       "      <td>Closed</td>\n",
       "      <td>2</td>\n",
       "      <td>2008-12-27T06:07:00</td>\n",
       "    </tr>\n",
       "    <tr>\n",
       "      <th>3</th>\n",
       "      <td>3</td>\n",
       "      <td>1566 HYDE ST, SAN FRANCISCO, CA, 94109</td>\n",
       "      <td>322566</td>\n",
       "      <td>Street and Sidewalk Cleaning</td>\n",
       "      <td>2009-07-21T16:24:00</td>\n",
       "      <td>Nob Hill</td>\n",
       "      <td>2008-11-30T22:56:00</td>\n",
       "      <td>Garbage</td>\n",
       "      <td>Sidewalk_Cleaning</td>\n",
       "      <td>DPW Ops Queue</td>\n",
       "      <td>Voice In</td>\n",
       "      <td>Closed</td>\n",
       "      <td>3</td>\n",
       "      <td>2009-07-21T16:24:00</td>\n",
       "    </tr>\n",
       "    <tr>\n",
       "      <th>4</th>\n",
       "      <td>4</td>\n",
       "      <td>GGP Panhandle, SAN FRANCISCO, CA, 94117</td>\n",
       "      <td>322565</td>\n",
       "      <td>Rec and Park Requests</td>\n",
       "      <td>2008-12-13T10:50:00</td>\n",
       "      <td>Haight Ashbury</td>\n",
       "      <td>2008-11-30T22:46:00</td>\n",
       "      <td>Other</td>\n",
       "      <td>Park - Structural_Maintenance</td>\n",
       "      <td>RPD Park Service Area GGP Queue</td>\n",
       "      <td>Voice In</td>\n",
       "      <td>Closed</td>\n",
       "      <td>5</td>\n",
       "      <td>2008-12-13T10:50:00</td>\n",
       "    </tr>\n",
       "  </tbody>\n",
       "</table>\n",
       "</div>"
      ],
      "text/plain": [
       "   index                                     address case_id  \\\n",
       "0      0         Intersection of 21ST ST and CAPP ST  322571   \n",
       "1      1    Intersection of BUSH ST and VAN NESS AVE  322568   \n",
       "2      2  Intersection of EUCLID AVE and MASONIC AVE  322567   \n",
       "3      3      1566 HYDE ST, SAN FRANCISCO, CA, 94109  322566   \n",
       "4      4     GGP Panhandle, SAN FRANCISCO, CA, 94117  322565   \n",
       "\n",
       "                       category               closed      neighborhood  \\\n",
       "0              General Requests  2008-12-01T15:19:00           Mission   \n",
       "1              Illegal Postings  2009-07-21T16:24:00          Nob Hill   \n",
       "2              Illegal Postings  2008-12-27T06:07:00  Western Addition   \n",
       "3  Street and Sidewalk Cleaning  2009-07-21T16:24:00          Nob Hill   \n",
       "4         Rec and Park Requests  2008-12-13T10:50:00    Haight Ashbury   \n",
       "\n",
       "                opened                        request_details  \\\n",
       "0  2008-11-30T23:53:00   puc - electric - request_for_service   \n",
       "1  2008-11-30T23:13:00  Posting_Too_Large_in_Size on Sidewalk   \n",
       "2  2008-11-30T23:07:00         Affixed_Improperly on Sidewalk   \n",
       "3  2008-11-30T22:56:00                                Garbage   \n",
       "4  2008-11-30T22:46:00                                  Other   \n",
       "\n",
       "                                   request_type  \\\n",
       "0          puc - electric - request_for_service   \n",
       "1  Illegal Postings - Posting_Too_Large_in_Size   \n",
       "2         Illegal Postings - Affixed_Improperly   \n",
       "3                             Sidewalk_Cleaning   \n",
       "4                 Park - Structural_Maintenance   \n",
       "\n",
       "                responsible_agency    source  status supervisor_district  \\\n",
       "0         PUC - Electric/Power - G  Voice In  Closed                   9   \n",
       "1                    DPW Ops Queue  Voice In  Closed                   3   \n",
       "2                    DPW Ops Queue  Voice In  Closed                   2   \n",
       "3                    DPW Ops Queue  Voice In  Closed                   3   \n",
       "4  RPD Park Service Area GGP Queue  Voice In  Closed                   5   \n",
       "\n",
       "               updated  \n",
       "0  2008-12-01T15:19:00  \n",
       "1  2009-07-21T16:24:00  \n",
       "2  2008-12-27T06:07:00  \n",
       "3  2009-07-21T16:24:00  \n",
       "4  2008-12-13T10:50:00  "
      ]
     },
     "execution_count": 16,
     "metadata": {},
     "output_type": "execute_result"
    }
   ],
   "source": [
    "pd.read_sql(\"SELECT * FROM sf_311 limit 5\", con)"
   ]
  },
  {
   "cell_type": "markdown",
   "metadata": {},
   "source": [
    "### Which type of complaint was most common?"
   ]
  },
  {
   "cell_type": "code",
   "execution_count": null,
   "metadata": {
    "collapsed": true
   },
   "outputs": [],
   "source": []
  },
  {
   "cell_type": "markdown",
   "metadata": {},
   "source": [
    "### Show 10 of the sidewalk cleanings (request_type='Sidewalk_Cleaning') in the Haight Ashbury neighborhood\n",
    "\n",
    "Hint:\n",
    "* request_type='Sidewalk_Cleaning'\n",
    "* neighborhood='Haight Ashbury'"
   ]
  },
  {
   "cell_type": "code",
   "execution_count": null,
   "metadata": {
    "collapsed": true
   },
   "outputs": [],
   "source": []
  },
  {
   "cell_type": "markdown",
   "metadata": {},
   "source": [
    "### Are there any neighborhoods where sidewalk cleaning requests are the most common?"
   ]
  },
  {
   "cell_type": "code",
   "execution_count": null,
   "metadata": {
    "collapsed": true
   },
   "outputs": [],
   "source": []
  }
 ],
 "metadata": {
  "kernelspec": {
   "display_name": "Python 2",
   "language": "python",
   "name": "python2"
  },
  "language_info": {
   "codemirror_mode": {
    "name": "ipython",
    "version": 2
   },
   "file_extension": ".py",
   "mimetype": "text/x-python",
   "name": "python",
   "nbconvert_exporter": "python",
   "pygments_lexer": "ipython2",
   "version": "2.7.10"
  }
 },
 "nbformat": 4,
 "nbformat_minor": 0
}
