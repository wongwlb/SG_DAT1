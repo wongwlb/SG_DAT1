{
 "cells": [
  {
   "cell_type": "markdown",
   "metadata": {},
   "source": [
    "Activity 3-B (Bonus activity!):\n",
    "-----------------------------\n",
    "\n",
    "No SQL this time- can you get $R\\cap(S\\cup T)$ via Python code?  _I.e. can you write a join in python??_\n",
    "\n",
    "Use **for loops** and the starter code below:"
   ]
  },
  {
   "cell_type": "code",
   "execution_count": 5,
   "metadata": {
    "collapsed": false
   },
   "outputs": [
    {
     "name": "stdout",
     "output_type": "stream",
     "text": [
      "[1, 3, 4, 5]\n"
     ]
    }
   ],
   "source": [
    "R = [1,2,3,4,5]\n",
    "S = [1,3,5,7,9]\n",
    "T = [1,4,7,10]\n",
    "\n",
    "# Write your code here:\n",
    "output = set()\n",
    "for r in R:\n",
    "    for s in S:\n",
    "        for t in T:\n",
    "            if r == s or r == t:\n",
    "                output.add(r)\n",
    "print list(output)"
   ]
  },
  {
   "cell_type": "markdown",
   "metadata": {},
   "source": [
    "What about if $S$ is empty??"
   ]
  }
 ],
 "metadata": {
  "kernelspec": {
   "display_name": "Python 2",
   "language": "python",
   "name": "python2"
  },
  "language_info": {
   "codemirror_mode": {
    "name": "ipython",
    "version": 2
   },
   "file_extension": ".py",
   "mimetype": "text/x-python",
   "name": "python",
   "nbconvert_exporter": "python",
   "pygments_lexer": "ipython2",
   "version": "2.7.11"
  }
 },
 "nbformat": 4,
 "nbformat_minor": 0
}
