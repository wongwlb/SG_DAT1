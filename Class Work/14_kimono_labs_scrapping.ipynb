{
 "cells": [
  {
   "cell_type": "markdown",
   "metadata": {},
   "source": [
    "Web scraping with the Kimono Labs API\n",
    "\n",
    "https://www.kimonolabs.com/"
   ]
  },
  {
   "cell_type": "markdown",
   "metadata": {},
   "source": [
    "### Datasets we will explore - \n",
    "\n",
    "* https://news.ycombinator.com/jobs\n",
    "* http://sfbay.craigslist.org/search/apa\n",
    "* http://en.wikipedia.org/wiki/List_of_countries_by_past_and_future_population"
   ]
  },
  {
   "cell_type": "code",
   "execution_count": 1,
   "metadata": {
    "collapsed": false
   },
   "outputs": [],
   "source": [
    "import pandas as pd"
   ]
  },
  {
   "cell_type": "code",
   "execution_count": 2,
   "metadata": {
    "collapsed": false
   },
   "outputs": [],
   "source": [
    "import json\n",
    "import urllib"
   ]
  },
  {
   "cell_type": "code",
   "execution_count": null,
   "metadata": {
    "collapsed": false
   },
   "outputs": [],
   "source": [
    "import yaml\n",
    "credentials = yaml.load(open('kimono_api_key.yaml'))\n",
    "api_key = credentials['KIMONO_KEY']"
   ]
  },
  {
   "cell_type": "code",
   "execution_count": null,
   "metadata": {
    "collapsed": false
   },
   "outputs": [],
   "source": [
    "data = json.load(urllib.urlopen(\"https://www.kimonolabs.com/api/5ujg54qa?apikey=\" + api_key))"
   ]
  },
  {
   "cell_type": "code",
   "execution_count": 15,
   "metadata": {
    "collapsed": false
   },
   "outputs": [],
   "source": [
    "def get_hacker_news_jobs(api_key):\n",
    "    \"\"\"\n",
    "    Creates list of top 50 movies by gross box office\n",
    "    sales for a year with ratings and sales\n",
    "    \"\"\"\n",
    "    \n",
    "    title_text, title_url = [], []\n",
    "    url = \"https://www.kimonolabs.com/api/7k8ns8bk?\" + \\\n",
    "            \"apikey={api_key}\".format(api_key=api_key)\n",
    "    \n",
    "    data = json.load(urllib.urlopen(url))\n",
    "#     return data\n",
    "# Iterate through json object to collect data\n",
    "    for n in xrange(data['count']):\n",
    "        n_text = data['results']['collection1'][n]['Title']['text']\n",
    "        n_url = data['results']['collection1'][n]['Title']['href']\n",
    "        title_text.append(n_text)\n",
    "        title_url.append(n_url)\n",
    "    \n",
    "    data = pd.DataFrame({'title':title_text,'url':title_url})\n",
    "    \n",
    "    return data"
   ]
  },
  {
   "cell_type": "code",
   "execution_count": 16,
   "metadata": {
    "collapsed": false
   },
   "outputs": [
    {
     "data": {
      "text/html": [
       "<div>\n",
       "<table border=\"1\" class=\"dataframe\">\n",
       "  <thead>\n",
       "    <tr style=\"text-align: right;\">\n",
       "      <th></th>\n",
       "      <th>title</th>\n",
       "      <th>url</th>\n",
       "    </tr>\n",
       "  </thead>\n",
       "  <tbody>\n",
       "    <tr>\n",
       "      <th>0</th>\n",
       "      <td>Le Tote (YC S13) Is Hiring Ruby Developers</td>\n",
       "      <td>https://jobs.lever.co/letote/9814cd4e-24eb-43b...</td>\n",
       "    </tr>\n",
       "    <tr>\n",
       "      <th>1</th>\n",
       "      <td>Meadow (YC W15) Is Hiring a Senior JavaScript ...</td>\n",
       "      <td>https://getmeadow.com/jobs</td>\n",
       "    </tr>\n",
       "    <tr>\n",
       "      <th>2</th>\n",
       "      <td>Blockspring Is Hiring a Lead Product Designer</td>\n",
       "      <td>https://jobs.lever.co/blockspring/6065dd68-93d...</td>\n",
       "    </tr>\n",
       "    <tr>\n",
       "      <th>3</th>\n",
       "      <td>Kamcord is looking for iOS engineers who want ...</td>\n",
       "      <td>https://jobs.lever.co/kamcord/8480c014-d88c-4d...</td>\n",
       "    </tr>\n",
       "    <tr>\n",
       "      <th>4</th>\n",
       "      <td>SimpleLegal seeking engineer in Mountain View</td>\n",
       "      <td>https://news.ycombinator.com/item?id=9967197</td>\n",
       "    </tr>\n",
       "    <tr>\n",
       "      <th>5</th>\n",
       "      <td>Full Stack Engineer at NimbleRx (YC W15)</td>\n",
       "      <td>https://news.ycombinator.com/item?id=9966454</td>\n",
       "    </tr>\n",
       "    <tr>\n",
       "      <th>6</th>\n",
       "      <td>Segment is hiring engineers to help run our co...</td>\n",
       "      <td>https://segment.com/jobs/</td>\n",
       "    </tr>\n",
       "    <tr>\n",
       "      <th>7</th>\n",
       "      <td>BuildZoom is hiring for all positions (we spon...</td>\n",
       "      <td>https://news.ycombinator.com/item?id=9965063</td>\n",
       "    </tr>\n",
       "    <tr>\n",
       "      <th>8</th>\n",
       "      <td>Snapdocs (YC W14) is hiring Rails engineers</td>\n",
       "      <td>https://news.ycombinator.com/item?id=9963869</td>\n",
       "    </tr>\n",
       "    <tr>\n",
       "      <th>9</th>\n",
       "      <td>Cruise (YC W14) is hiring a dev ops engineer t...</td>\n",
       "      <td>https://jobs.lever.co/cruise/a63ca2f5-6cf1-41e...</td>\n",
       "    </tr>\n",
       "    <tr>\n",
       "      <th>10</th>\n",
       "      <td>Poll Everywhere hiring experienced Ruby hackers</td>\n",
       "      <td>https://www.polleverywhere.com/jobs#ruby-web-e...</td>\n",
       "    </tr>\n",
       "    <tr>\n",
       "      <th>11</th>\n",
       "      <td>Teespring (YC W13) Is Hiring Senior Full Stack...</td>\n",
       "      <td>https://news.ycombinator.com/item?id=9960331</td>\n",
       "    </tr>\n",
       "    <tr>\n",
       "      <th>12</th>\n",
       "      <td>Rainforest QA (YC S12) is hiring sales and eng...</td>\n",
       "      <td>https://www.rainforestqa.com/jobs/</td>\n",
       "    </tr>\n",
       "    <tr>\n",
       "      <th>13</th>\n",
       "      <td>Checkr (YC S14) is hiring Full Stack Hackers t...</td>\n",
       "      <td>https://boards.greenhouse.io/checkr/jobs/78417...</td>\n",
       "    </tr>\n",
       "    <tr>\n",
       "      <th>14</th>\n",
       "      <td>ZeroCater Is Hiring a VP of Engineering and a ...</td>\n",
       "      <td>https://zerocater.com/jobs/</td>\n",
       "    </tr>\n",
       "    <tr>\n",
       "      <th>15</th>\n",
       "      <td>EasyPost (YC S13) Hiring a VP of Fulfillment</td>\n",
       "      <td>https://www.easypost.com/jobs</td>\n",
       "    </tr>\n",
       "    <tr>\n",
       "      <th>16</th>\n",
       "      <td>Heap is hiring engineers to build the next gen...</td>\n",
       "      <td>https://heapanalytics.com/jobs</td>\n",
       "    </tr>\n",
       "    <tr>\n",
       "      <th>17</th>\n",
       "      <td>Shoptiques (YC W12) Is Hiring for Insight Sales</td>\n",
       "      <td>http://www.shoptiques.com/info/jobs/sales</td>\n",
       "    </tr>\n",
       "    <tr>\n",
       "      <th>18</th>\n",
       "      <td>InfluxDB (YC W13) Is Hiring Go Developers in NYC</td>\n",
       "      <td>https://news.ycombinator.com/item?id=9953745</td>\n",
       "    </tr>\n",
       "    <tr>\n",
       "      <th>19</th>\n",
       "      <td>Flexport Is Hiring Senior Engineers</td>\n",
       "      <td>https://flexport.com/careers</td>\n",
       "    </tr>\n",
       "    <tr>\n",
       "      <th>20</th>\n",
       "      <td>Shoptiques.com (YC W12) is hiring first Data S...</td>\n",
       "      <td>http://www.shoptiques.com/info/jobs/data-analyst</td>\n",
       "    </tr>\n",
       "  </tbody>\n",
       "</table>\n",
       "</div>"
      ],
      "text/plain": [
       "                                                title  \\\n",
       "0          Le Tote (YC S13) Is Hiring Ruby Developers   \n",
       "1   Meadow (YC W15) Is Hiring a Senior JavaScript ...   \n",
       "2       Blockspring Is Hiring a Lead Product Designer   \n",
       "3   Kamcord is looking for iOS engineers who want ...   \n",
       "4       SimpleLegal seeking engineer in Mountain View   \n",
       "5            Full Stack Engineer at NimbleRx (YC W15)   \n",
       "6   Segment is hiring engineers to help run our co...   \n",
       "7   BuildZoom is hiring for all positions (we spon...   \n",
       "8         Snapdocs (YC W14) is hiring Rails engineers   \n",
       "9   Cruise (YC W14) is hiring a dev ops engineer t...   \n",
       "10    Poll Everywhere hiring experienced Ruby hackers   \n",
       "11  Teespring (YC W13) Is Hiring Senior Full Stack...   \n",
       "12  Rainforest QA (YC S12) is hiring sales and eng...   \n",
       "13  Checkr (YC S14) is hiring Full Stack Hackers t...   \n",
       "14  ZeroCater Is Hiring a VP of Engineering and a ...   \n",
       "15       EasyPost (YC S13) Hiring a VP of Fulfillment   \n",
       "16  Heap is hiring engineers to build the next gen...   \n",
       "17    Shoptiques (YC W12) Is Hiring for Insight Sales   \n",
       "18   InfluxDB (YC W13) Is Hiring Go Developers in NYC   \n",
       "19                Flexport Is Hiring Senior Engineers   \n",
       "20  Shoptiques.com (YC W12) is hiring first Data S...   \n",
       "\n",
       "                                                  url  \n",
       "0   https://jobs.lever.co/letote/9814cd4e-24eb-43b...  \n",
       "1                          https://getmeadow.com/jobs  \n",
       "2   https://jobs.lever.co/blockspring/6065dd68-93d...  \n",
       "3   https://jobs.lever.co/kamcord/8480c014-d88c-4d...  \n",
       "4        https://news.ycombinator.com/item?id=9967197  \n",
       "5        https://news.ycombinator.com/item?id=9966454  \n",
       "6                           https://segment.com/jobs/  \n",
       "7        https://news.ycombinator.com/item?id=9965063  \n",
       "8        https://news.ycombinator.com/item?id=9963869  \n",
       "9   https://jobs.lever.co/cruise/a63ca2f5-6cf1-41e...  \n",
       "10  https://www.polleverywhere.com/jobs#ruby-web-e...  \n",
       "11       https://news.ycombinator.com/item?id=9960331  \n",
       "12                 https://www.rainforestqa.com/jobs/  \n",
       "13  https://boards.greenhouse.io/checkr/jobs/78417...  \n",
       "14                        https://zerocater.com/jobs/  \n",
       "15                      https://www.easypost.com/jobs  \n",
       "16                     https://heapanalytics.com/jobs  \n",
       "17          http://www.shoptiques.com/info/jobs/sales  \n",
       "18       https://news.ycombinator.com/item?id=9953745  \n",
       "19                       https://flexport.com/careers  \n",
       "20   http://www.shoptiques.com/info/jobs/data-analyst  "
      ]
     },
     "execution_count": 16,
     "metadata": {},
     "output_type": "execute_result"
    }
   ],
   "source": [
    "get_hacker_news_jobs(api_key='jh6QpQMSvPPunQPo1ZJHsxR9tOKYNHje')"
   ]
  },
  {
   "cell_type": "markdown",
   "metadata": {},
   "source": [
    "### Additional Resources\n",
    "\n",
    "http://help.kimonolabs.com/hc/en-us/articles/203489400-Tutorial-Retrieve-large-data-sets-with-more-than-2500-results"
   ]
  },
  {
   "cell_type": "code",
   "execution_count": null,
   "metadata": {
    "collapsed": false
   },
   "outputs": [],
   "source": []
  }
 ],
 "metadata": {
  "kernelspec": {
   "display_name": "Python 2",
   "language": "python",
   "name": "python2"
  },
  "language_info": {
   "codemirror_mode": {
    "name": "ipython",
    "version": 2
   },
   "file_extension": ".py",
   "mimetype": "text/x-python",
   "name": "python",
   "nbconvert_exporter": "python",
   "pygments_lexer": "ipython2",
   "version": "2.7.10"
  }
 },
 "nbformat": 4,
 "nbformat_minor": 0
}
